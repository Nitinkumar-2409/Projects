{
 "cells": [
  {
   "cell_type": "markdown",
   "id": "a1a80245",
   "metadata": {},
   "source": [
    "<img src=\"https://dev.skillup.online/asset-v1:SkillUp+SKOAI101+PLU_2021_1+type@asset+block@SKO.png\" width=\"250\" align=\"center\">\n",
    "\n",
    "<h1 align=\"center\"><font size=\"5\"> Analyzing and Visualizing Covid-19 Cases</font></h1>"
   ]
  },
  {
   "cell_type": "markdown",
   "id": "6692da92",
   "metadata": {},
   "source": [
    "## Importing Libraries"
   ]
  },
  {
   "cell_type": "code",
   "execution_count": 1,
   "id": "3787c253",
   "metadata": {},
   "outputs": [],
   "source": [
    "# import libraries\n",
    "import numpy as np   \n",
    "import pandas as pd   \n",
    "import matplotlib.pyplot as plt  \n",
    "import seaborn as sns \n",
    "%matplotlib inline"
   ]
  },
  {
   "cell_type": "markdown",
   "id": "b9a52273",
   "metadata": {},
   "source": [
    "## Reading Data Set"
   ]
  },
  {
   "cell_type": "code",
   "execution_count": 2,
   "id": "2789dce3",
   "metadata": {},
   "outputs": [],
   "source": [
    "# Read the data set using read_csv function\n",
    "\n",
    "import pandas as pd\n",
    "\n",
    "df = pd.read_csv(\"Covid_19_cases.csv\")"
   ]
  },
  {
   "cell_type": "markdown",
   "id": "4e8031b1",
   "metadata": {},
   "source": [
    "### Get glimpse of data"
   ]
  },
  {
   "cell_type": "code",
   "execution_count": 3,
   "id": "deeef527",
   "metadata": {},
   "outputs": [
    {
     "data": {
      "text/html": [
       "<div>\n",
       "<style scoped>\n",
       "    .dataframe tbody tr th:only-of-type {\n",
       "        vertical-align: middle;\n",
       "    }\n",
       "\n",
       "    .dataframe tbody tr th {\n",
       "        vertical-align: top;\n",
       "    }\n",
       "\n",
       "    .dataframe thead th {\n",
       "        text-align: right;\n",
       "    }\n",
       "</style>\n",
       "<table border=\"1\" class=\"dataframe\">\n",
       "  <thead>\n",
       "    <tr style=\"text-align: right;\">\n",
       "      <th></th>\n",
       "      <th>dateRep</th>\n",
       "      <th>day</th>\n",
       "      <th>month</th>\n",
       "      <th>year</th>\n",
       "      <th>cases</th>\n",
       "      <th>deaths</th>\n",
       "      <th>countriesAndTerritories</th>\n",
       "    </tr>\n",
       "  </thead>\n",
       "  <tbody>\n",
       "    <tr>\n",
       "      <th>0</th>\n",
       "      <td>31/05/2021</td>\n",
       "      <td>31</td>\n",
       "      <td>5</td>\n",
       "      <td>2021</td>\n",
       "      <td>366</td>\n",
       "      <td>5</td>\n",
       "      <td>Austria</td>\n",
       "    </tr>\n",
       "    <tr>\n",
       "      <th>1</th>\n",
       "      <td>30/05/2021</td>\n",
       "      <td>30</td>\n",
       "      <td>5</td>\n",
       "      <td>2021</td>\n",
       "      <td>570</td>\n",
       "      <td>6</td>\n",
       "      <td>Austria</td>\n",
       "    </tr>\n",
       "    <tr>\n",
       "      <th>2</th>\n",
       "      <td>29/05/2021</td>\n",
       "      <td>29</td>\n",
       "      <td>5</td>\n",
       "      <td>2021</td>\n",
       "      <td>538</td>\n",
       "      <td>11</td>\n",
       "      <td>Austria</td>\n",
       "    </tr>\n",
       "    <tr>\n",
       "      <th>3</th>\n",
       "      <td>28/05/2021</td>\n",
       "      <td>28</td>\n",
       "      <td>5</td>\n",
       "      <td>2021</td>\n",
       "      <td>639</td>\n",
       "      <td>4</td>\n",
       "      <td>Austria</td>\n",
       "    </tr>\n",
       "    <tr>\n",
       "      <th>4</th>\n",
       "      <td>27/05/2021</td>\n",
       "      <td>27</td>\n",
       "      <td>5</td>\n",
       "      <td>2021</td>\n",
       "      <td>405</td>\n",
       "      <td>19</td>\n",
       "      <td>Austria</td>\n",
       "    </tr>\n",
       "  </tbody>\n",
       "</table>\n",
       "</div>"
      ],
      "text/plain": [
       "      dateRep  day  month  year  cases  deaths countriesAndTerritories\n",
       "0  31/05/2021   31      5  2021    366       5                 Austria\n",
       "1  30/05/2021   30      5  2021    570       6                 Austria\n",
       "2  29/05/2021   29      5  2021    538      11                 Austria\n",
       "3  28/05/2021   28      5  2021    639       4                 Austria\n",
       "4  27/05/2021   27      5  2021    405      19                 Austria"
      ]
     },
     "execution_count": 3,
     "metadata": {},
     "output_type": "execute_result"
    }
   ],
   "source": [
    "df.head()"
   ]
  },
  {
   "cell_type": "code",
   "execution_count": 4,
   "id": "e4b806ff",
   "metadata": {},
   "outputs": [
    {
     "name": "stdout",
     "output_type": "stream",
     "text": [
      "         dateRep countriesAndTerritories  cases  new_cases\n",
      "0     31/05/2021                 Austria    366        0.0\n",
      "1     30/05/2021                 Austria    570      204.0\n",
      "2     29/05/2021                 Austria    538      -32.0\n",
      "3     28/05/2021                 Austria    639      101.0\n",
      "4     27/05/2021                 Austria    405     -234.0\n",
      "...          ...                     ...    ...        ...\n",
      "2725    6/3/2021                  Sweden   3455     2004.0\n",
      "2726    5/3/2021                  Sweden   4069      614.0\n",
      "2727    4/3/2021                  Sweden   4884      815.0\n",
      "2728    3/3/2021                  Sweden   4876       -8.0\n",
      "2729    2/3/2021                  Sweden   6191     1315.0\n",
      "\n",
      "[2730 rows x 4 columns]\n"
     ]
    }
   ],
   "source": [
    "# consider the columns 'cases', 'deaths', 'countriesAndTerritories' and prepare a new dataframe\n",
    "# Write your code here\n",
    "df['new_cases'] = df.groupby(['countriesAndTerritories'])['cases'].diff()\n",
    "df['new_cases'].fillna(0, inplace=True)\n",
    "print(df[['dateRep', 'countriesAndTerritories', 'cases', 'new_cases']])"
   ]
  },
  {
   "cell_type": "markdown",
   "id": "891457f0",
   "metadata": {},
   "source": [
    "<details><summary>Click Here for the Hint</summary>\n",
    "\n",
    " \n",
    "\n",
    "```\n",
    "    df_new=df[['cases', 'deaths','countriesAndTerritories']]\n",
    "\n",
    " \n",
    "\n",
    "```\n",
    "\n",
    " \n",
    "\n",
    "</details>"
   ]
  },
  {
   "cell_type": "code",
   "execution_count": 5,
   "id": "16c0ba14",
   "metadata": {},
   "outputs": [
    {
     "name": "stdout",
     "output_type": "stream",
     "text": [
      "      dateRep countriesAndTerritories  cases  new_cases\n",
      "0  31/05/2021                 Austria    366        0.0\n",
      "1  30/05/2021                 Austria    570      204.0\n",
      "2  29/05/2021                 Austria    538      -32.0\n",
      "3  28/05/2021                 Austria    639      101.0\n",
      "4  27/05/2021                 Austria    405     -234.0\n",
      "5  26/05/2021                 Austria    287     -118.0\n",
      "6  25/05/2021                 Austria    342       55.0\n",
      "7  24/05/2021                 Austria    520      178.0\n",
      "8  23/05/2021                 Austria    626      106.0\n",
      "9  22/05/2021                 Austria    671       45.0\n"
     ]
    }
   ],
   "source": [
    "# display the first 10 rows of new dataframe\n",
    "print(df[['dateRep', 'countriesAndTerritories', 'cases', 'new_cases']].head(10))"
   ]
  },
  {
   "cell_type": "markdown",
   "id": "c3418317",
   "metadata": {},
   "source": [
    "### Q1. Use groupby on <code>countriesAndTerritories</code> to find total <code>cases</code> and <code>deaths</code>"
   ]
  },
  {
   "cell_type": "code",
   "execution_count": 6,
   "id": "3f1108c1",
   "metadata": {},
   "outputs": [
    {
     "name": "stdout",
     "output_type": "stream",
     "text": [
      "                           cases  deaths\n",
      "countriesAndTerritories                 \n",
      "Austria                   184416    1925\n",
      "Belgium                   288119    2696\n",
      "Bulgaria                  171236    7471\n",
      "Croatia                   113168    2488\n",
      "Cyprus                     37700     129\n",
      "Czechia                   421221    9639\n",
      "Denmark                    69188     155\n",
      "Estonia                    62916     654\n",
      "Finland                    34760     177\n",
      "France                   2020808   22977\n"
     ]
    }
   ],
   "source": [
    "# Write your code here\n",
    "grouped_df = df.groupby('countriesAndTerritories').agg({'cases': 'sum', 'deaths': 'sum'})\n",
    "print(grouped_df.head(10))"
   ]
  },
  {
   "cell_type": "markdown",
   "id": "cd51e875",
   "metadata": {},
   "source": [
    "### Q2. Find top five countries in terms of <code>cases</code>, store them in a new dataframe and Visualize them"
   ]
  },
  {
   "cell_type": "code",
   "execution_count": 7,
   "id": "5e394740",
   "metadata": {},
   "outputs": [
    {
     "name": "stdout",
     "output_type": "stream",
     "text": [
      "   index     dateRep  day  month  year  cases  deaths countriesAndTerritories\n",
      "0    873    7/4/2021    7      4  2021  53843     426                  France\n",
      "1    881  30/03/2021   30      3  2021  53130     360                  France\n",
      "2    888  23/03/2021   23      3  2021  46939     343                  France\n",
      "3    867  13/04/2021   13      4  2021  46289     385                  France\n",
      "4    880  31/03/2021   31      3  2021  43554     381                  France\n"
     ]
    },
    {
     "data": {
      "text/plain": [
       "<Axes: xlabel='countriesAndTerritories', ylabel='cases'>"
      ]
     },
     "execution_count": 7,
     "metadata": {},
     "output_type": "execute_result"
    },
    {
     "data": {
      "image/png": "[encoded data removed]",
      "text/plain": [
       "<Figure size 640x480 with 1 Axes>"
      ]
     },
     "metadata": {},
     "output_type": "display_data"
    }
   ],
   "source": [
    "# Write your code here\n",
    "import pandas as pd\n",
    "\n",
    "df = pd.read_csv(\"Covid_19_cases.csv\")\n",
    "    \n",
    "df_top_five_cases = df.sort_values(by='cases', ascending=False).head(5)\n",
    "df_top_five_cases.reset_index(inplace=True)\n",
    "print(df_top_five_cases)\n",
    "sns.barplot(x='countriesAndTerritories',y='cases',data=df_top_five_cases)"
   ]
  },
  {
   "cell_type": "markdown",
   "id": "f312d70b",
   "metadata": {},
   "source": [
    "<details><summary>Click Here for the Hint</summary>\n",
    "\n",
    " \n",
    "\n",
    "```\n",
    "    df_top_five_cases=df_cases.sort_values(by='cases',ascending=False)\n",
    "    df_top_five_cases=df_top_five_cases.head(5)\n",
    "    df_top_five_cases.reset_index(inplace=True)\n",
    "    print(df_top_five_cases)\n",
    "    sns.barplot(x='countriesAndTerritories',y='cases',data=df_top_five_cases)\n",
    "\n",
    " \n",
    "\n",
    "```\n",
    "\n",
    " \n",
    "\n",
    "</details>"
   ]
  },
  {
   "cell_type": "markdown",
   "id": "e4097334",
   "metadata": {},
   "source": [
    "### Q3. Find top five countries in terms of <code>deaths</code>, store them in a new dataframe and Visualize them"
   ]
  },
  {
   "cell_type": "code",
   "execution_count": 8,
   "id": "39e70bab",
   "metadata": {},
   "outputs": [
    {
     "name": "stdout",
     "output_type": "stream",
     "text": [
      "   index     dateRep  day  month  year  cases  deaths countriesAndTerritories\n",
      "0   2145    9/4/2021    9      4  2021  27890     956                  Poland\n",
      "1    884  27/03/2021   27      3  2021  39932     897                  France\n",
      "2   2139  15/04/2021   15      4  2021  21266     804                  Poland\n",
      "3   2144   10/4/2021   10      4  2021  28499     768                  Poland\n",
      "4   2143   11/4/2021   11      4  2021  24892     749                  Poland\n"
     ]
    },
    {
     "data": {
      "text/plain": [
       "<Axes: xlabel='countriesAndTerritories', ylabel='deaths'>"
      ]
     },
     "execution_count": 8,
     "metadata": {},
     "output_type": "execute_result"
    },
    {
     "data": {
      "image/png": "[encoded data removed]",
      "text/plain": [
       "<Figure size 640x480 with 1 Axes>"
      ]
     },
     "metadata": {},
     "output_type": "display_data"
    }
   ],
   "source": [
    "# Write your code here\n",
    "df_top_five_deaths = df.sort_values(by='deaths', ascending=False).head(5)\n",
    "df_top_five_deaths.reset_index(inplace=True)\n",
    "print(df_top_five_deaths)\n",
    "sns.barplot(x='countriesAndTerritories',y='deaths',data=df_top_five_deaths)"
   ]
  },
  {
   "cell_type": "markdown",
   "id": "e46b824d",
   "metadata": {},
   "source": [
    "### Q4. Use groupby on <code>countriesAndTerritories</code> to find mean value of <code>cases</code> and <code>deaths</code>"
   ]
  },
  {
   "cell_type": "code",
   "execution_count": 9,
   "id": "d0c2a031",
   "metadata": {},
   "outputs": [
    {
     "name": "stdout",
     "output_type": "stream",
     "text": [
      "                                cases      deaths\n",
      "countriesAndTerritories                          \n",
      "Austria                   2026.549451   21.153846\n",
      "Belgium                   3166.142857   29.626374\n",
      "Bulgaria                  1881.714286   82.098901\n",
      "Croatia                   1243.604396   27.340659\n",
      "Cyprus                     414.285714    1.417582\n",
      "Czechia                   4628.802198  105.923077\n",
      "Denmark                    760.307692    1.703297\n",
      "Estonia                    691.384615    7.186813\n",
      "Finland                    381.978022    1.945055\n",
      "France                   22206.681319  252.494505\n",
      "Germany                  13561.076923  201.505495\n",
      "Greece                    2309.901099   60.989011\n",
      "Hungary                   4083.659341  161.263736\n",
      "Iceland                      5.791209    0.010989\n",
      "Ireland                    462.164835    6.835165\n",
      "Italy                    14183.934066  311.505495\n",
      "Latvia                     515.516484    8.263736\n",
      "Liechtenstein                4.802198    0.043956\n",
      "Lithuania                  846.593407   11.230769\n",
      "Luxembourg                 158.945055    1.934066\n",
      "Malta                       83.362637    1.142857\n",
      "Netherlands               6131.681319   22.582418\n",
      "Norway                     593.351648    1.769231\n",
      "Poland                   12801.802198  329.329670\n",
      "Portugal                   484.571429    7.758242\n",
      "Romania                   3028.461538  109.076923\n",
      "Slovakia                  1961.263736   56.593407\n",
      "Slovenia                   698.351648    6.395604\n",
      "Spain                     6073.879121  113.670330\n",
      "Sweden                    4439.769231   15.967033\n"
     ]
    }
   ],
   "source": [
    "# Write your code here\n",
    "grouped_df = df.groupby('countriesAndTerritories').agg({'cases': 'mean', 'deaths': 'mean'})\n",
    "print(grouped_df)"
   ]
  },
  {
   "cell_type": "markdown",
   "id": "2069408a",
   "metadata": {},
   "source": [
    "### Q5. Find top five countries with highest number of average <code>cases</code>, store them in a new dataframe and Visualize them"
   ]
  },
  {
   "cell_type": "code",
   "execution_count": 10,
   "id": "98471862",
   "metadata": {},
   "outputs": [
    {
     "name": "stdout",
     "output_type": "stream",
     "text": [
      "  countriesAndTerritories         cases      deaths\n",
      "0                  France  22206.681319  252.494505\n",
      "1                   Italy  14183.934066  311.505495\n",
      "2                 Germany  13561.076923  201.505495\n",
      "3                  Poland  12801.802198  329.329670\n",
      "4             Netherlands   6131.681319   22.582418\n"
     ]
    }
   ],
   "source": [
    "# Write your code here\n",
    "\n",
    "df_top_five_cases = grouped_df.sort_values(by='cases', ascending=False).head(5)\n",
    "df_top_five_cases.reset_index(inplace=True)\n",
    "print(df_top_five_cases)"
   ]
  },
  {
   "cell_type": "code",
   "execution_count": 11,
   "id": "32b34dc9",
   "metadata": {},
   "outputs": [
    {
     "data": {
      "image/png": "[encoded data removed]",
      "text/plain": [
       "<Figure size 1000x600 with 1 Axes>"
      ]
     },
     "metadata": {},
     "output_type": "display_data"
    }
   ],
   "source": [
    "plt.figure(figsize=(10, 6))\n",
    "sns.barplot(x='countriesAndTerritories', y='cases', data=df_top_five_cases)\n",
    "plt.xlabel('Countries')\n",
    "plt.ylabel('Average Cases')\n",
    "plt.title('Top 5 Countries by Average COVID-19 Cases')\n",
    "plt.xticks(rotation=45)  # Rotate x-axis labels for readability\n",
    "plt.show()"
   ]
  },
  {
   "cell_type": "markdown",
   "id": "b5875393",
   "metadata": {},
   "source": [
    "### Q6. Find top five countries with highest number of average <code>deaths</code>, store them in a new dataframe and Visualize them"
   ]
  },
  {
   "cell_type": "code",
   "execution_count": 12,
   "id": "29a06886",
   "metadata": {},
   "outputs": [
    {
     "name": "stdout",
     "output_type": "stream",
     "text": [
      "  countriesAndTerritories         cases      deaths\n",
      "0                  France  22206.681319  252.494505\n",
      "1                   Italy  14183.934066  311.505495\n",
      "2                 Germany  13561.076923  201.505495\n",
      "3                  Poland  12801.802198  329.329670\n",
      "4             Netherlands   6131.681319   22.582418\n"
     ]
    }
   ],
   "source": [
    "# Write your code here\n",
    "\n",
    "df_top_five_deaths = grouped_df.sort_values(by='deaths', ascending=False).head(5)\n",
    "df_top_five_deaths.reset_index(inplace=True)\n",
    "print(df_top_five_cases)"
   ]
  },
  {
   "cell_type": "code",
   "execution_count": 13,
   "id": "2e3d9c48",
   "metadata": {},
   "outputs": [
    {
     "data": {
      "image/png": "[encoded data removed]",
      "text/plain": [
       "<Figure size 1000x600 with 1 Axes>"
      ]
     },
     "metadata": {},
     "output_type": "display_data"
    }
   ],
   "source": [
    "plt.figure(figsize=(10, 6))\n",
    "sns.barplot(x='countriesAndTerritories', y='deaths', data=df_top_five_deaths)\n",
    "plt.xlabel('Countries')\n",
    "plt.ylabel('Average Deaths')\n",
    "plt.title('Top 5 Countries by Average COVID-19 Deaths')\n",
    "plt.xticks(rotation=45)  # Rotate x-axis labels for readability\n",
    "plt.show()"
   ]
  },
  {
   "cell_type": "markdown",
   "id": "ef5ccab1",
   "metadata": {},
   "source": [
    "## Assignment Notebook Submission \n",
    "\n",
    "Once you complete your notebook you will have to share it. Save all your work and download the file. You will be submitting your notebook for peer review in the next section of the course.\n",
    "\n"
   ]
  },
  {
   "cell_type": "markdown",
   "id": "192ac67a",
   "metadata": {},
   "source": [
    "## Author(s)\n",
    "\n",
    "Aditya Singh\n",
    "\n",
    "## Changelog\n",
    "| Date | Version | Changed by | Change Description |\n",
    "|------|--------|--------|---------|\n",
    "| 2021-07-09 | 1.0 | Aditya | Created new version |\n",
    "|   |   |   |   |\n"
   ]
  },
  {
   "cell_type": "code",
   "execution_count": null,
   "id": "0e6481cf",
   "metadata": {},
   "outputs": [],
   "source": []
  }
 ],
 "metadata": {
  "kernelspec": {
   "display_name": "Python 3 (ipykernel)",
   "language": "python",
   "name": "python3"
  },
  "language_info": {
   "codemirror_mode": {
    "name": "ipython",
    "version": 3
   },
   "file_extension": ".py",
   "mimetype": "text/x-python",
   "name": "python",
   "nbconvert_exporter": "python",
   "pygments_lexer": "ipython3",
   "version": "3.10.9"
  }
 },
 "nbformat": 4,
 "nbformat_minor": 5
}
