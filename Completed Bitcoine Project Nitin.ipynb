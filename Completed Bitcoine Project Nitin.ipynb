{
 "cells": [
  {
   "cell_type": "markdown",
   "id": "23110cb2",
   "metadata": {},
   "source": [
    "<img src=\"https://dev.skillup.online/asset-v1:SkillUp+SKOAI101+PLU_2021_1+type@asset+block@SKO.png\" width=\"250\" align=\"center\">\n",
    "\n",
    "<h1 align=\"center\"><font size=\"5\"> Analyzing and Visualizing Bit Coin Prices</font></h1>"
   ]
  },
  {
   "cell_type": "markdown",
   "id": "edd11290",
   "metadata": {},
   "source": [
    "## Importing Libraries"
   ]
  },
  {
   "cell_type": "code",
   "execution_count": 1,
   "id": "47ae0523",
   "metadata": {},
   "outputs": [],
   "source": [
    "# import libraries\n",
    "import numpy as np \n",
    "import pandas as pd\n",
    "import matplotlib.pyplot as plt\n",
    "import seaborn as sns\n",
    "%matplotlib inline  "
   ]
  },
  {
   "cell_type": "markdown",
   "id": "006dce02",
   "metadata": {},
   "source": [
    "## Reading Data Set"
   ]
  },
  {
   "cell_type": "code",
   "execution_count": 2,
   "id": "2a9e5ce2",
   "metadata": {},
   "outputs": [],
   "source": [
    "# Read the data set using read_csv function\n",
    "import pandas as pd\n",
    "df = pd.read_excel (r'C:\\Users\\Welcome\\Desktop\\Bitcoin Project\\bitcoin_prices.xlsx')\n"
   ]
  },
  {
   "cell_type": "markdown",
   "id": "4a15811b",
   "metadata": {},
   "source": [
    "### Get glimpse of data"
   ]
  },
  {
   "cell_type": "code",
   "execution_count": 3,
   "id": "111eee84",
   "metadata": {},
   "outputs": [
    {
     "data": {
      "text/html": [
       "<div>\n",
       "<style scoped>\n",
       "    .dataframe tbody tr th:only-of-type {\n",
       "        vertical-align: middle;\n",
       "    }\n",
       "\n",
       "    .dataframe tbody tr th {\n",
       "        vertical-align: top;\n",
       "    }\n",
       "\n",
       "    .dataframe thead th {\n",
       "        text-align: right;\n",
       "    }\n",
       "</style>\n",
       "<table border=\"1\" class=\"dataframe\">\n",
       "  <thead>\n",
       "    <tr style=\"text-align: right;\">\n",
       "      <th></th>\n",
       "      <th>open</th>\n",
       "      <th>high</th>\n",
       "      <th>low</th>\n",
       "      <th>close</th>\n",
       "      <th>tick_volume</th>\n",
       "      <th>year</th>\n",
       "      <th>month</th>\n",
       "      <th>day</th>\n",
       "    </tr>\n",
       "  </thead>\n",
       "  <tbody>\n",
       "    <tr>\n",
       "      <th>0</th>\n",
       "      <td>5.26</td>\n",
       "      <td>5.47</td>\n",
       "      <td>4.80</td>\n",
       "      <td>5.21</td>\n",
       "      <td>69150</td>\n",
       "      <td>2012</td>\n",
       "      <td>1</td>\n",
       "      <td>2</td>\n",
       "    </tr>\n",
       "    <tr>\n",
       "      <th>1</th>\n",
       "      <td>5.22</td>\n",
       "      <td>5.29</td>\n",
       "      <td>4.65</td>\n",
       "      <td>4.88</td>\n",
       "      <td>125170</td>\n",
       "      <td>2012</td>\n",
       "      <td>1</td>\n",
       "      <td>3</td>\n",
       "    </tr>\n",
       "    <tr>\n",
       "      <th>2</th>\n",
       "      <td>4.88</td>\n",
       "      <td>5.70</td>\n",
       "      <td>4.75</td>\n",
       "      <td>5.57</td>\n",
       "      <td>131170</td>\n",
       "      <td>2012</td>\n",
       "      <td>1</td>\n",
       "      <td>4</td>\n",
       "    </tr>\n",
       "    <tr>\n",
       "      <th>3</th>\n",
       "      <td>5.57</td>\n",
       "      <td>7.22</td>\n",
       "      <td>5.57</td>\n",
       "      <td>6.94</td>\n",
       "      <td>182328</td>\n",
       "      <td>2012</td>\n",
       "      <td>1</td>\n",
       "      <td>5</td>\n",
       "    </tr>\n",
       "    <tr>\n",
       "      <th>4</th>\n",
       "      <td>6.95</td>\n",
       "      <td>7.21</td>\n",
       "      <td>6.13</td>\n",
       "      <td>6.70</td>\n",
       "      <td>218077</td>\n",
       "      <td>2012</td>\n",
       "      <td>1</td>\n",
       "      <td>6</td>\n",
       "    </tr>\n",
       "  </tbody>\n",
       "</table>\n",
       "</div>"
      ],
      "text/plain": [
       "   open  high   low  close  tick_volume  year  month  day\n",
       "0  5.26  5.47  4.80   5.21        69150  2012      1    2\n",
       "1  5.22  5.29  4.65   4.88       125170  2012      1    3\n",
       "2  4.88  5.70  4.75   5.57       131170  2012      1    4\n",
       "3  5.57  7.22  5.57   6.94       182328  2012      1    5\n",
       "4  6.95  7.21  6.13   6.70       218077  2012      1    6"
      ]
     },
     "execution_count": 3,
     "metadata": {},
     "output_type": "execute_result"
    }
   ],
   "source": [
    "df.head()"
   ]
  },
  {
   "cell_type": "markdown",
   "id": "99692b85",
   "metadata": {},
   "source": [
    "### Q1. groupby dataframe on <code>year</code> and find the mean value,"
   ]
  },
  {
   "cell_type": "code",
   "execution_count": 7,
   "id": "24418531",
   "metadata": {},
   "outputs": [
    {
     "data": {
      "text/html": [
       "<div>\n",
       "<style scoped>\n",
       "    .dataframe tbody tr th:only-of-type {\n",
       "        vertical-align: middle;\n",
       "    }\n",
       "\n",
       "    .dataframe tbody tr th {\n",
       "        vertical-align: top;\n",
       "    }\n",
       "\n",
       "    .dataframe thead th {\n",
       "        text-align: right;\n",
       "    }\n",
       "</style>\n",
       "<table border=\"1\" class=\"dataframe\">\n",
       "  <thead>\n",
       "    <tr style=\"text-align: right;\">\n",
       "      <th></th>\n",
       "      <th>open</th>\n",
       "      <th>high</th>\n",
       "      <th>low</th>\n",
       "      <th>close</th>\n",
       "      <th>tick_volume</th>\n",
       "      <th>month</th>\n",
       "      <th>day</th>\n",
       "    </tr>\n",
       "    <tr>\n",
       "      <th>year</th>\n",
       "      <th></th>\n",
       "      <th></th>\n",
       "      <th></th>\n",
       "      <th></th>\n",
       "      <th></th>\n",
       "      <th></th>\n",
       "      <th></th>\n",
       "    </tr>\n",
       "  </thead>\n",
       "  <tbody>\n",
       "    <tr>\n",
       "      <th>2012</th>\n",
       "      <td>8.249119</td>\n",
       "      <td>8.482605</td>\n",
       "      <td>8.034674</td>\n",
       "      <td>8.303602</td>\n",
       "      <td>6.156866e+04</td>\n",
       "      <td>6.501916</td>\n",
       "      <td>15.819923</td>\n",
       "    </tr>\n",
       "    <tr>\n",
       "      <th>2013</th>\n",
       "      <td>182.396475</td>\n",
       "      <td>195.594023</td>\n",
       "      <td>170.112989</td>\n",
       "      <td>185.867663</td>\n",
       "      <td>1.321434e+06</td>\n",
       "      <td>6.513410</td>\n",
       "      <td>15.704981</td>\n",
       "    </tr>\n",
       "    <tr>\n",
       "      <th>2014</th>\n",
       "      <td>520.448123</td>\n",
       "      <td>534.720881</td>\n",
       "      <td>502.673027</td>\n",
       "      <td>518.500077</td>\n",
       "      <td>9.195414e+03</td>\n",
       "      <td>6.524904</td>\n",
       "      <td>15.750958</td>\n",
       "    </tr>\n",
       "    <tr>\n",
       "      <th>2015</th>\n",
       "      <td>268.885862</td>\n",
       "      <td>275.916628</td>\n",
       "      <td>263.178314</td>\n",
       "      <td>269.679579</td>\n",
       "      <td>9.137854e+03</td>\n",
       "      <td>6.540230</td>\n",
       "      <td>15.685824</td>\n",
       "    </tr>\n",
       "    <tr>\n",
       "      <th>2016</th>\n",
       "      <td>560.208467</td>\n",
       "      <td>568.469004</td>\n",
       "      <td>552.945556</td>\n",
       "      <td>561.547548</td>\n",
       "      <td>1.886472e+04</td>\n",
       "      <td>6.524904</td>\n",
       "      <td>15.708812</td>\n",
       "    </tr>\n",
       "    <tr>\n",
       "      <th>2017</th>\n",
       "      <td>4030.433980</td>\n",
       "      <td>4208.879728</td>\n",
       "      <td>3878.672007</td>\n",
       "      <td>4072.584116</td>\n",
       "      <td>1.153070e+06</td>\n",
       "      <td>6.731293</td>\n",
       "      <td>15.792517</td>\n",
       "    </tr>\n",
       "    <tr>\n",
       "      <th>2018</th>\n",
       "      <td>7784.464930</td>\n",
       "      <td>8041.540000</td>\n",
       "      <td>7478.756503</td>\n",
       "      <td>7755.060839</td>\n",
       "      <td>1.954219e+06</td>\n",
       "      <td>6.094406</td>\n",
       "      <td>15.667832</td>\n",
       "    </tr>\n",
       "    <tr>\n",
       "      <th>2019</th>\n",
       "      <td>7328.262819</td>\n",
       "      <td>7556.984942</td>\n",
       "      <td>7115.426564</td>\n",
       "      <td>7352.219653</td>\n",
       "      <td>1.603199e+06</td>\n",
       "      <td>6.513514</td>\n",
       "      <td>15.725869</td>\n",
       "    </tr>\n",
       "    <tr>\n",
       "      <th>2020</th>\n",
       "      <td>11020.477846</td>\n",
       "      <td>11335.288615</td>\n",
       "      <td>10744.427808</td>\n",
       "      <td>11104.194962</td>\n",
       "      <td>1.840348e+06</td>\n",
       "      <td>6.519231</td>\n",
       "      <td>15.811538</td>\n",
       "    </tr>\n",
       "  </tbody>\n",
       "</table>\n",
       "</div>"
      ],
      "text/plain": [
       "              open          high           low         close   tick_volume  \\\n",
       "year                                                                         \n",
       "2012      8.249119      8.482605      8.034674      8.303602  6.156866e+04   \n",
       "2013    182.396475    195.594023    170.112989    185.867663  1.321434e+06   \n",
       "2014    520.448123    534.720881    502.673027    518.500077  9.195414e+03   \n",
       "2015    268.885862    275.916628    263.178314    269.679579  9.137854e+03   \n",
       "2016    560.208467    568.469004    552.945556    561.547548  1.886472e+04   \n",
       "2017   4030.433980   4208.879728   3878.672007   4072.584116  1.153070e+06   \n",
       "2018   7784.464930   8041.540000   7478.756503   7755.060839  1.954219e+06   \n",
       "2019   7328.262819   7556.984942   7115.426564   7352.219653  1.603199e+06   \n",
       "2020  11020.477846  11335.288615  10744.427808  11104.194962  1.840348e+06   \n",
       "\n",
       "         month        day  \n",
       "year                       \n",
       "2012  6.501916  15.819923  \n",
       "2013  6.513410  15.704981  \n",
       "2014  6.524904  15.750958  \n",
       "2015  6.540230  15.685824  \n",
       "2016  6.524904  15.708812  \n",
       "2017  6.731293  15.792517  \n",
       "2018  6.094406  15.667832  \n",
       "2019  6.513514  15.725869  \n",
       "2020  6.519231  15.811538  "
      ]
     },
     "execution_count": 7,
     "metadata": {},
     "output_type": "execute_result"
    }
   ],
   "source": [
    "# Write your code here\n",
    "df.groupby(['year']).mean()"
   ]
  },
  {
   "cell_type": "markdown",
   "id": "f1c7e6a5",
   "metadata": {},
   "source": [
    "### Q2. Visualize mean value of <code>open</code> yearly."
   ]
  },
  {
   "cell_type": "code",
   "execution_count": 12,
   "id": "555bc6ff",
   "metadata": {},
   "outputs": [
    {
     "data": {
      "text/plain": [
       "<Axes: xlabel='year', ylabel='open'>"
      ]
     },
     "execution_count": 12,
     "metadata": {},
     "output_type": "execute_result"
    },
    {
     "data": {
      "image/png": "[encoded data removed]",
      "text/plain": [
       "<Figure size 640x480 with 1 Axes>"
      ]
     },
     "metadata": {},
     "output_type": "display_data"
    }
   ],
   "source": [
    "# Hint: sns.barplot(x='year',y='open',data=df_mean)\n",
    "\n",
    "fig = df.mean().plot(kind='bar')    \n",
    "sns.barplot(data=df, x=\"year\", y=\"open\")\n"
   ]
  },
  {
   "cell_type": "markdown",
   "id": "d59e9a80",
   "metadata": {},
   "source": [
    "# Q3. Visualize mean value of <code>close</code> yearly."
   ]
  },
  {
   "cell_type": "code",
   "execution_count": 14,
   "id": "2d3582a8",
   "metadata": {},
   "outputs": [
    {
     "name": "stdout",
     "output_type": "stream",
     "text": [
      "Mean values:\n",
      "open             3567.653057\n",
      "high             3683.417646\n",
      "low              3455.242583\n",
      "close            3581.347841\n",
      "tick_volume    899459.466306\n",
      "year             2016.030366\n",
      "month               6.495008\n",
      "day                15.740849\n",
      "dtype: float64\n"
     ]
    },
    {
     "data": {
      "text/plain": [
       "<Axes: xlabel='year', ylabel='close'>"
      ]
     },
     "execution_count": 14,
     "metadata": {},
     "output_type": "execute_result"
    },
    {
     "data": {
      "image/png": "[encoded data removed]",
      "text/plain": [
       "<Figure size 640x480 with 1 Axes>"
      ]
     },
     "metadata": {},
     "output_type": "display_data"
    }
   ],
   "source": [
    "# Write your code here\n",
    "print(\"Mean values:\")\n",
    "print(df.mean())\n",
    "\n",
    "fig = df.mean().plot(kind='bar')    \n",
    "sns.barplot(data=df, x=\"year\", y=\"close\")"
   ]
  },
  {
   "cell_type": "markdown",
   "id": "013fc82e",
   "metadata": {},
   "source": [
    "### Q4. groupby dataframe on <code>year</code> and find the median value."
   ]
  },
  {
   "cell_type": "code",
   "execution_count": 15,
   "id": "4fadb920",
   "metadata": {},
   "outputs": [
    {
     "name": "stdout",
     "output_type": "stream",
     "text": [
      "   year      open     high       low     close  tick_volume  month   day  \\\n",
      "0  2012     6.800     7.10     6.510     6.700      46830.0    7.0  16.0   \n",
      "1  2013   111.300   116.44   106.000   112.250      17966.0    7.0  16.0   \n",
      "2  2014   501.210   517.00   477.300   501.220       8073.0    7.0  16.0   \n",
      "3  2015   246.000   251.99   241.090   245.970       7811.0    7.0  16.0   \n",
      "4  2016   577.960   582.05   573.040   576.850      17009.0    7.0  16.0   \n",
      "5  2017  2622.985  2743.55  2547.640  2640.920     445335.0    7.0  16.0   \n",
      "6  2018  7138.750  7421.45  6868.370  7148.500    1278851.5    6.0  16.0   \n",
      "7  2019  7815.950  8115.60  7483.790  7831.450    1302461.0    7.0  16.0   \n",
      "8  2020  9672.340  9887.64  9467.515  9683.635    1752751.0    7.0  16.0   \n",
      "\n",
      "   count  \n",
      "0    261  \n",
      "1    261  \n",
      "2    261  \n",
      "3    261  \n",
      "4    261  \n",
      "5    294  \n",
      "6    286  \n",
      "7    259  \n",
      "8    260  \n"
     ]
    }
   ],
   "source": [
    "# Write your code here\n",
    "df_grouped = df.groupby('year').median().join(df['year'].value_counts().rename('count')).reset_index()\n",
    "\n",
    "print(df_grouped)"
   ]
  },
  {
   "cell_type": "markdown",
   "id": "b62ce84b",
   "metadata": {},
   "source": [
    "### Q5. Visualize median value of <code>open</code> yearly."
   ]
  },
  {
   "cell_type": "code",
   "execution_count": 16,
   "id": "db6cf4b1",
   "metadata": {},
   "outputs": [
    {
     "data": {
      "text/plain": [
       "<Axes: xlabel='year', ylabel='open'>"
      ]
     },
     "execution_count": 16,
     "metadata": {},
     "output_type": "execute_result"
    },
    {
     "data": {
      "image/png": "[encoded data removed]",
      "text/plain": [
       "<Figure size 640x480 with 1 Axes>"
      ]
     },
     "metadata": {},
     "output_type": "display_data"
    }
   ],
   "source": [
    "# Write your code here\n",
    "fig = df.median().plot(kind='bar')    \n",
    "sns.barplot(data=df, x=\"year\", y=\"open\")"
   ]
  },
  {
   "cell_type": "markdown",
   "id": "e15eadb9",
   "metadata": {},
   "source": [
    "### Q6. Visualize median value of <code>close</code> yearly."
   ]
  },
  {
   "cell_type": "code",
   "execution_count": 17,
   "id": "845acaa7",
   "metadata": {},
   "outputs": [
    {
     "data": {
      "text/plain": [
       "<Axes: xlabel='year', ylabel='close'>"
      ]
     },
     "execution_count": 17,
     "metadata": {},
     "output_type": "execute_result"
    },
    {
     "data": {
      "image/png": "[encoded data removed]",
      "text/plain": [
       "<Figure size 640x480 with 1 Axes>"
      ]
     },
     "metadata": {},
     "output_type": "display_data"
    }
   ],
   "source": [
    "# Write your code here\n",
    "fig = df.median().plot(kind='bar')    \n",
    "sns.barplot(data=df, x=\"year\", y=\"close\")"
   ]
  },
  {
   "cell_type": "code",
   "execution_count": null,
   "id": "d14c42ef",
   "metadata": {},
   "outputs": [],
   "source": []
  },
  {
   "cell_type": "markdown",
   "id": "8b78af5e",
   "metadata": {},
   "source": [
    "## Assignment Notebook Submission \n",
    "\n",
    "Once you complete your notebook you will have to share it. Save all your work and download the file. You will be submitting your notebook for peer review in the next section of the course.\n",
    "\n"
   ]
  },
  {
   "cell_type": "markdown",
   "id": "0c7c4620",
   "metadata": {},
   "source": [
    "## Author(s)\n",
    "\n",
    "Aditya Singh\n",
    "\n",
    "## Changelog\n",
    "| Date | Version | Changed by | Change Description |\n",
    "|------|--------|--------|---------|\n",
    "| 2021-07-09 | 1.0 | Aditya | Created new version |\n",
    "|   |   |   |   |\n"
   ]
  },
  {
   "cell_type": "markdown",
   "id": "6f90c9b6",
   "metadata": {},
   "source": []
  }
 ],
 "metadata": {
  "kernelspec": {
   "display_name": "Python 3 (ipykernel)",
   "language": "python",
   "name": "python3"
  },
  "language_info": {
   "codemirror_mode": {
    "name": "ipython",
    "version": 3
   },
   "file_extension": ".py",
   "mimetype": "text/x-python",
   "name": "python",
   "nbconvert_exporter": "python",
   "pygments_lexer": "ipython3",
   "version": "3.10.9"
  }
 },
 "nbformat": 4,
 "nbformat_minor": 5
}
